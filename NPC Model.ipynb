{
 "cells": [
  {
   "cell_type": "code",
   "execution_count": 1,
   "metadata": {},
   "outputs": [
    {
     "name": "stderr",
     "output_type": "stream",
     "text": [
      "DEBUG -211- Loaded backend module://ipykernel.pylab.backend_inline version unknown.\n"
     ]
    }
   ],
   "source": [
    "from emlib import emlib"
   ]
  },
  {
   "cell_type": "code",
   "execution_count": 2,
   "metadata": {},
   "outputs": [],
   "source": [
    "def NPZB_int(t,initial,dtinput,constants):\n",
    "\n",
    "    P = initial[1]           # phytoplankton\n",
    "    Z = initial[1]             # zooplankton\n",
    "    B = initial[1]             # benthos\n",
    "    DIN = initial[1]           # dissolved inorganic\n",
    "    DON = initial[1]           # dissolved organic\n",
    "    ddin = 0.0                 #code for when the model is run: ddin = dtinput.Val(\"ddin\")\n",
    "    ddon = 0.0                 #code for when the model is run: ddon = dtinput.Val(\"ddon\")\n",
    "    \n",
    "    i = constants.Val(\"i\")      #irradiance\n",
    "    Pg = constants.Val(\"Pg\")    # max P growth\n",
    "    Bg = constants.Val(\"Bg\")    # max B growth\n",
    "    e = constants.Val(\"e\")      # Z ingestion\n",
    "    Zm = constants.Val(\"Zm\")    # Z mortality\n",
    "    Pm = constants.Val(\"Pm\")    # P mortality\n",
    "    Bm = constants.Val(\"Bm\")    # B mortality\n",
    "    Pe = constants.Val(\"Pe\")    # P excretion\n",
    "    Be = constants.Val(\"Be\")    # B excretion\n",
    "    Pr = constants.Val(\"Pr\")    # P recycle\n",
    "    h = constants.Val(\"h\")      # Z grazing\n",
    "    s = constants.Val(\"s\")      # sedimentation\n",
    "    \n",
    "    P_dot = (i * Pg * P) + (Pr * DON * P) - (h * P * Z) - (Pm * P * P) - (Pe * P)\n",
    "    Z_dot = ((2 * e - 1)*h * P * Z) - (Zm * Z * Z)-(0.8* (1 - e) * h * P * Z)-(0.2 * (1 - e) * h * P * Z)\n",
    "    B_dot = (Bg * B)/ (1 + Bg * B) * (DON + DIN) - (Bm * B * B) - (Be * B)\n",
    "    DIN_dot = ddin + (0.8* (1 - e) * h * P * Z) + (Be * B) - (i * Pg * P) - (Bg * B)/ (1 + Bg * B) * DIN\n",
    "    DON_dot = ddon + (Bm * B * B) + (Pm * P * P) + (Zm * Z * Z) + (Pe * P) + (0.2 * (1 - e) * h * P * Z) \\\n",
    "             - (Pr * DON * P) - ((Bg * B)/ (1 + Bg * B) * DON) - (s * DON)\n",
    "\n",
    "    return [P_dot, Z_dot, B_dot, DIN_dot, DON_dot]"
   ]
  },
  {
   "cell_type": "code",
   "execution_count": 3,
   "metadata": {},
   "outputs": [
    {
     "name": "stderr",
     "output_type": "stream",
     "text": [
      "INFO -1105- New Model(1): NPZB_int\n",
      "INFO -1117- No algorithm supplied assuming vode/bfd O12 Nsteps3000 dt1\n",
      "DEBUG -1131- Integrator:vode/bdf order:12 nsteps:3000 dt:1\n"
     ]
    }
   ],
   "source": [
    "NPZB = emlib.Model(NPZB_int) #save the model"
   ]
  },
  {
   "cell_type": "code",
   "execution_count": 4,
   "metadata": {},
   "outputs": [
    {
     "name": "stderr",
     "output_type": "stream",
     "text": [
      "INFO -880- New TimeSeries instance: 1\n",
      "DEBUG -952- New INPUT table DataBB_Zoop.csv['Date', 'Zoop']\n",
      "DEBUG -963- Saved 2 rows and 1 columns\n",
      "DEBUG -965- Converted dates to contiguous np.array\n",
      "DEBUG -967- Converted input data to contiguous np.array\n",
      "INFO -880- New TimeSeries instance: 2\n",
      "DEBUG -952- New INPUT table DataBB_N.csv['DATE', 'ddin', 'ddon']\n",
      "DEBUG -963- Saved 13 rows and 2 columns\n",
      "DEBUG -965- Converted dates to contiguous np.array\n",
      "DEBUG -967- Converted input data to contiguous np.array\n",
      "INFO -880- New TimeSeries instance: 3\n",
      "DEBUG -952- New INPUT table DataBB_MG.csv['DATE', 'gm2']\n",
      "DEBUG -963- Saved 60 rows and 1 columns\n",
      "DEBUG -965- Converted dates to contiguous np.array\n",
      "DEBUG -967- Converted input data to contiguous np.array\n"
     ]
    }
   ],
   "source": [
    "BB_Zoop= emlib.TimeSeries(dirname=\"Data\",filename=\"BB_Zoop.csv\")\n",
    "BB_N= emlib.TimeSeries(dirname=\"Data\",filename=\"BB_N.csv\")\n",
    "BB_MG= emlib.TimeSeries(dirname=\"Data\",filename=\"BB_MG.csv\")"
   ]
  },
  {
   "cell_type": "code",
   "execution_count": 5,
   "metadata": {},
   "outputs": [
    {
     "name": "stderr",
     "output_type": "stream",
     "text": [
      "INFO -353- New Calibration instance: 1\n",
      "DEBUG -596- C:1 i 1.0 True\n",
      "DEBUG -596- C:2 Pg 0.5 True\n",
      "DEBUG -596- C:3 Bg 0.1 True\n",
      "DEBUG -596- C:4 e 0.2 True\n",
      "DEBUG -596- C:5 Zm 0.2 True\n",
      "DEBUG -596- C:6 Pm 0.1 True\n",
      "DEBUG -596- C:7 Bm 0.1 True\n",
      "DEBUG -596- C:8 Pe 0.1 True\n",
      "DEBUG -596- C:9 Be 0.1 True\n",
      "DEBUG -596- C:10 Pr 0.3 True\n",
      "DEBUG -596- C:11 h 0.3 False\n",
      "DEBUG -596- C:12 s 0.15 True\n"
     ]
    }
   ],
   "source": [
    "NPZBcalibration = emlib.Calibration()\n",
    "NPZBcalibration.Add(\"i\",val=1.0,isconst=True)#from Turner 2014\n",
    "NPZBcalibration.Add(\"Pg\",val=0.5,isconst=True)#from Turner 2014\n",
    "NPZBcalibration.Add(\"Bg\",val=0.1,isconst=True)#from Turner 2014\n",
    "NPZBcalibration.Add(\"e\",val=0.2,isconst=True)#from Turner 2014\n",
    "NPZBcalibration.Add(\"Zm\",val=0.2,isconst=True)#from Turner 2014\n",
    "NPZBcalibration.Add(\"Pm\",val=0.1,isconst=True)#from Turner 2014\n",
    "NPZBcalibration.Add(\"Bm\",val=0.1,isconst=True)#from Turner 2014\n",
    "NPZBcalibration.Add(\"Pe\",val=0.1,isconst=True)#random number\n",
    "NPZBcalibration.Add(\"Be\",val=0.1,isconst=True)#random number\n",
    "NPZBcalibration.Add(\"Pr\",val=0.3,isconst=True)#random number\n",
    "NPZBcalibration.Add(\"h\",val=0.3,min=0.1,max=100)#random moving number\n",
    "NPZBcalibration.Add(\"s\",val=0.15,isconst=True)#from Turner 2014\n",
    "NPZBcalibration.initial=[1,1,1,1,1]"
   ]
  },
  {
   "cell_type": "code",
   "execution_count": 6,
   "metadata": {},
   "outputs": [
    {
     "name": "stderr",
     "output_type": "stream",
     "text": [
      "DEBUG -1138- ODEINT Initials:11111\n",
      "DEBUG -1179- Ending in 3000 runs\n",
      "DEBUG -1183- Passing Cs:['i', 'Pg', 'Bg', 'e', 'Zm', 'Pm', 'Bm', 'Pe', 'Be', 'Pr', 'h', 's']\n",
      "DEBUG -1205- Integration dT:0 of 3000 Remaining:3000\n",
      "DEBUG -1205- Integration dT:500 of 3000 Remaining:2500\n",
      "DEBUG -1205- Integration dT:1000 of 3000 Remaining:2000\n",
      "DEBUG -1205- Integration dT:1500 of 3000 Remaining:1500\n",
      "DEBUG -1205- Integration dT:2000 of 3000 Remaining:1000\n",
      "DEBUG -1205- Integration dT:2500 of 3000 Remaining:500\n",
      "DEBUG -1217- Completed Integration, created np.array shape:(3000, 5)\n",
      "DEBUG -2515- update_title_pos\n",
      "DEBUG -1254- findfont: Matching :family=sans-serif:style=normal:variant=normal:weight=normal:stretch=normal:size=10.0 to DejaVu Sans ('C:\\\\Users\\\\mrohal\\\\AppData\\\\Local\\\\Continuum\\\\anaconda3\\\\lib\\\\site-packages\\\\matplotlib\\\\mpl-data\\\\fonts\\\\ttf\\\\DejaVuSans.ttf') with score of 0.050000.\n",
      "DEBUG -1254- findfont: Matching :family=sans-serif:style=normal:variant=normal:weight=normal:stretch=normal:size=12.0 to DejaVu Sans ('C:\\\\Users\\\\mrohal\\\\AppData\\\\Local\\\\Continuum\\\\anaconda3\\\\lib\\\\site-packages\\\\matplotlib\\\\mpl-data\\\\fonts\\\\ttf\\\\DejaVuSans.ttf') with score of 0.050000.\n",
      "DEBUG -2515- update_title_pos\n",
      "DEBUG -2515- update_title_pos\n",
      "DEBUG -2515- update_title_pos\n"
     ]
    },
    {
     "data": {
      "image/png": "[encoded data removed]",
      "text/plain": [
       "<Figure size 432x288 with 1 Axes>"
      ]
     },
     "metadata": {
      "needs_background": "light"
     },
     "output_type": "display_data"
    }
   ],
   "source": [
    "NPZB.Integrate(NPZBcalibration.initial,Calibration=NPZBcalibration,maxdt=30,dt=.01) #test of model stability\n",
    "NPZB.Draw()"
   ]
  },
  {
   "cell_type": "code",
   "execution_count": 7,
   "metadata": {},
   "outputs": [
    {
     "name": "stderr",
     "output_type": "stream",
     "text": [
      "DEBUG -1138- ODEINT Initials:11111\n",
      "DEBUG -1176- Starting:2013-07-18 Ending:13\n",
      "DEBUG -1177- Passing DtInput:['ddin', 'ddon']\n",
      "DEBUG -1183- Passing Cs:['i', 'Pg', 'Bg', 'e', 'Zm', 'Pm', 'Bm', 'Pe', 'Be', 'Pr', 'h', 's']\n",
      "DEBUG -1205- Integration dT:0 of 13 Remaining:13\n",
      "DEBUG -1217- Completed Integration, created np.array shape:(13, 5)\n",
      "DEBUG -2515- update_title_pos\n",
      "DEBUG -2515- update_title_pos\n",
      "DEBUG -2515- update_title_pos\n",
      "DEBUG -2515- update_title_pos\n"
     ]
    },
    {
     "data": {
      "image/png": "[encoded data removed]",
      "text/plain": [
       "<Figure size 432x288 with 1 Axes>"
      ]
     },
     "metadata": {
      "needs_background": "light"
     },
     "output_type": "display_data"
    }
   ],
   "source": [
    "NPZB.Integrate(NPZBcalibration.initial,TimeSeries=BB_N, Calibration=NPZBcalibration) #run with nutrient timeseries (need more inputs)\n",
    "NPZB.Draw()"
   ]
  }
 ],
 "metadata": {
  "kernelspec": {
   "display_name": "Python 3",
   "language": "python",
   "name": "python3"
  },
  "language_info": {
   "codemirror_mode": {
    "name": "ipython",
    "version": 3
   },
   "file_extension": ".py",
   "mimetype": "text/x-python",
   "name": "python",
   "nbconvert_exporter": "python",
   "pygments_lexer": "ipython3",
   "version": "3.7.1"
  }
 },
 "nbformat": 4,
 "nbformat_minor": 2
}
