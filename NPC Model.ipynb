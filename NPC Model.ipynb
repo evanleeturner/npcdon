{
 "cells": [
  {
   "cell_type": "code",
   "execution_count": 1,
   "metadata": {},
   "outputs": [
    {
     "name": "stderr",
     "output_type": "stream",
     "text": [
      "DEBUG -211- Loaded backend module://ipykernel.pylab.backend_inline version unknown.\n"
     ]
    }
   ],
   "source": [
    "from emlib import emlib"
   ]
  },
  {
   "cell_type": "code",
   "execution_count": 2,
   "metadata": {},
   "outputs": [],
   "source": [
    "def NPZB_int(t,initial,dtinput,constants):\n",
    "\n",
    "    P = initial[1]           # phytoplankton\n",
    "    Z = initial[1]             # zooplankton\n",
    "    B = initial[1]             # benthos\n",
    "    DIN = initial[1]           # dissolved inorganic\n",
    "    DON = initial[1]           # dissolved organic\n",
    "    ddin = dtinput.Val(\"ddin\")\n",
    "    ddon = dtinput.Val(\"ddon\")\n",
    "    \n",
    "    i = constants.Val(\"i\")      #irradiance\n",
    "    Pg = constants.Val(\"Pg\")    # max P growth\n",
    "    Bg = constants.Val(\"Bg\")    # max B growth\n",
    "    e = constants.Val(\"e\")      # Z ingestion\n",
    "    Zm = constants.Val(\"Zm\")    # Z mortality\n",
    "    Pm = constants.Val(\"Pm\")    # P mortality\n",
    "    Bm = constants.Val(\"Bm\")    # B mortality\n",
    "    Pe = constants.Val(\"Pe\")    # P excretion\n",
    "    Be = constants.Val(\"Be\")    # B excretion\n",
    "    Pr = constants.Val(\"Pr\")    # P recycle\n",
    "    h = constants.Val(\"h\")      # Z grazing\n",
    "    s = constants.Val(\"s\")      # sedimentation\n",
    "    \n",
    "    P_dot = (i * Pg * P) + (Pr * DON * P) - (h * P * Z) - (Pm * P * P) - (Pe * P)\n",
    "    Z_dot = ((2 * e - 1)*h * P * Z) - (Zm * Z * Z)-(0.8* (1 - e) * h * P * Z)-(0.2 * (1 - e) * H * P * Z)\n",
    "    B_dot = (Bg * B)/ (1 + Bg * B) * (DON + DIN) - (BM * B * B) - (Be * B)\n",
    "    DIN_dot = ddin + (0.8* (1 - e) * h * P * Z) + (Be * B) - (i * Pg * P) - (Bg * B)/ (1 + Bg * B) * DIN\n",
    "    DON_dot = ddon + (Bm * B * B) + (Pm * P * P) + (Zm * Z * Z) + (Pe * P) + (0.2 * (1 - e) * H * P * Z) \\\n",
    "             - (Pr * DON * P) - ((Bg * B)/ (1 + Bg * B) * DON) - (s * DON)\n",
    "\n",
    "    return [P_dot, Z_dot, B_dot, DIN_dot, DON_dot]"
   ]
  },
  {
   "cell_type": "code",
   "execution_count": 3,
   "metadata": {},
   "outputs": [
    {
     "name": "stderr",
     "output_type": "stream",
     "text": [
      "INFO -1105- New Model(1): NPZB_int\n",
      "INFO -1117- No algorithm supplied assuming vode/bfd O12 Nsteps3000 dt1\n",
      "DEBUG -1131- Integrator:vode/bdf order:12 nsteps:3000 dt:1\n"
     ]
    }
   ],
   "source": [
    "NPZB = emlib.Model(NPZB_int) #save the model"
   ]
  },
  {
   "cell_type": "code",
   "execution_count": 18,
   "metadata": {},
   "outputs": [
    {
     "name": "stderr",
     "output_type": "stream",
     "text": [
      "INFO -880- New TimeSeries instance: 10\n",
      "DEBUG -952- New INPUT table DataBB_Zoop.csv['Date', 'Zoop']\n",
      "DEBUG -963- Saved 2 rows and 1 columns\n",
      "DEBUG -965- Converted dates to contiguous np.array\n",
      "DEBUG -967- Converted input data to contiguous np.array\n",
      "INFO -880- New TimeSeries instance: 11\n",
      "DEBUG -952- New INPUT table DataBB_N.csv['DATE', 'ddin', 'ddon']\n",
      "DEBUG -963- Saved 13 rows and 2 columns\n",
      "DEBUG -965- Converted dates to contiguous np.array\n",
      "DEBUG -967- Converted input data to contiguous np.array\n",
      "INFO -880- New TimeSeries instance: 12\n",
      "DEBUG -952- New INPUT table DataBB_MG.csv['DATE', 'gm2']\n",
      "DEBUG -963- Saved 60 rows and 1 columns\n",
      "DEBUG -965- Converted dates to contiguous np.array\n",
      "DEBUG -967- Converted input data to contiguous np.array\n"
     ]
    }
   ],
   "source": [
    "BB_Zoop= emlib.TimeSeries(dirname=\"Data\",filename=\"BB_Zoop.csv\")\n",
    "BB_N= emlib.TimeSeries(dirname=\"Data\",filename=\"BB_N.csv\")\n",
    "BB_MG= emlib.TimeSeries(dirname=\"Data\",filename=\"BB_MG.csv\")"
   ]
  },
  {
   "cell_type": "code",
   "execution_count": 25,
   "metadata": {},
   "outputs": [
    {
     "name": "stderr",
     "output_type": "stream",
     "text": [
      "INFO -353- New Calibration instance: 7\n",
      "DEBUG -596- C:48 Pg 0.5 True\n",
      "DEBUG -596- C:49 Bg 0.1 True\n",
      "DEBUG -596- C:50 e 0.2 True\n",
      "DEBUG -596- C:51 Zm 0.2 True\n",
      "DEBUG -596- C:52 Pm 0.1 True\n",
      "DEBUG -596- C:53 Bm 0.1 True\n",
      "DEBUG -596- C:54 Pe 0.1 True\n",
      "DEBUG -596- C:55 Be 0.1 True\n",
      "DEBUG -596- C:56 Pr 0.3 True\n",
      "DEBUG -596- C:57 h 0.3 False\n",
      "DEBUG -596- C:58 s 0.15 True\n"
     ]
    }
   ],
   "source": [
    "NPZBcalibration = emlib.Calibration()\n",
    "NPZBcalibration.Add(\"i\",val=1.0,isconst=True)#from Turner 2014\n",
    "NPZBcalibration.Add(\"Pg\",val=0.5,isconst=True)#from Turner 2014\n",
    "NPZBcalibration.Add(\"Bg\",val=0.1,isconst=True)#from Turner 2014\n",
    "NPZBcalibration.Add(\"e\",val=0.2,isconst=True)#from Turner 2014\n",
    "NPZBcalibration.Add(\"Zm\",val=0.2,isconst=True)#from Turner 2014\n",
    "NPZBcalibration.Add(\"Pm\",val=0.1,isconst=True)#from Turner 2014\n",
    "NPZBcalibration.Add(\"Bm\",val=0.1,isconst=True)#from Turner 2014\n",
    "NPZBcalibration.Add(\"Pe\",val=0.1,isconst=True)#random number\n",
    "NPZBcalibration.Add(\"Be\",val=0.1,isconst=True)#random number\n",
    "NPZBcalibration.Add(\"Pr\",val=0.3,isconst=True)#random number\n",
    "NPZBcalibration.Add(\"h\",val=0.3,min=0.1,max=100)#random moving number\n",
    "NPZBcalibration.Add(\"s\",val=0.15,isconst=True)#from Turner 2014\n",
    "NPZBcalibration.initial=[1,1,1]"
   ]
  },
  {
   "cell_type": "code",
   "execution_count": 26,
   "metadata": {},
   "outputs": [
    {
     "name": "stderr",
     "output_type": "stream",
     "text": [
      "DEBUG -1138- ODEINT Initials:32\n",
      "DEBUG -1176- Starting:2013-07-18 Ending:13\n",
      "DEBUG -1177- Passing DtInput:['ddin', 'ddon']\n"
     ]
    },
    {
     "ename": "AttributeError",
     "evalue": "'NoneType' object has no attribute 'Val'",
     "output_type": "error",
     "traceback": [
      "\u001b[1;31m---------------------------------------------------------------------------\u001b[0m",
      "\u001b[1;31mAttributeError\u001b[0m                            Traceback (most recent call last)",
      "\u001b[1;32m<ipython-input-26-d994eefd89a1>\u001b[0m in \u001b[0;36m<module>\u001b[1;34m\u001b[0m\n\u001b[1;32m----> 1\u001b[1;33m \u001b[0mNPZB\u001b[0m\u001b[1;33m.\u001b[0m\u001b[0mIntegrate\u001b[0m\u001b[1;33m(\u001b[0m\u001b[1;33m[\u001b[0m\u001b[1;36m3\u001b[0m\u001b[1;33m,\u001b[0m\u001b[1;36m2\u001b[0m\u001b[1;33m]\u001b[0m\u001b[1;33m,\u001b[0m\u001b[0mTimeSeries\u001b[0m\u001b[1;33m=\u001b[0m\u001b[0mBB_N\u001b[0m\u001b[1;33m)\u001b[0m\u001b[1;33m\u001b[0m\u001b[1;33m\u001b[0m\u001b[0m\n\u001b[0m\u001b[0;32m      2\u001b[0m \u001b[0mNPZB\u001b[0m\u001b[1;33m.\u001b[0m\u001b[0mDraw\u001b[0m\u001b[1;33m(\u001b[0m\u001b[1;33m)\u001b[0m\u001b[1;33m\u001b[0m\u001b[1;33m\u001b[0m\u001b[0m\n",
      "\u001b[1;32m~\\Desktop\\NPZ Model\\npcdon\\emlib\\emlib.py\u001b[0m in \u001b[0;36mIntegrate\u001b[1;34m(self, initial, maxdt, Calibration, TimeSeries, start, end, dt)\u001b[0m\n\u001b[0;32m   1200\u001b[0m \u001b[1;33m\u001b[0m\u001b[0m\n\u001b[0;32m   1201\u001b[0m \u001b[1;33m\u001b[0m\u001b[0m\n\u001b[1;32m-> 1202\u001b[1;33m             \u001b[0mself\u001b[0m\u001b[1;33m.\u001b[0m\u001b[0mmyodesolve\u001b[0m\u001b[1;33m.\u001b[0m\u001b[0mintegrate\u001b[0m\u001b[1;33m(\u001b[0m\u001b[0mself\u001b[0m\u001b[1;33m.\u001b[0m\u001b[0mmyodesolve\u001b[0m\u001b[1;33m.\u001b[0m\u001b[0mt\u001b[0m \u001b[1;33m+\u001b[0m \u001b[0mself\u001b[0m\u001b[1;33m.\u001b[0m\u001b[0mdt\u001b[0m\u001b[1;33m)\u001b[0m\u001b[1;33m\u001b[0m\u001b[1;33m\u001b[0m\u001b[0m\n\u001b[0m\u001b[0;32m   1203\u001b[0m             \u001b[0mself\u001b[0m\u001b[1;33m.\u001b[0m\u001b[0mmyodesolve\u001b[0m\u001b[1;33m.\u001b[0m\u001b[0mset_initial_value\u001b[0m\u001b[1;33m(\u001b[0m\u001b[0mself\u001b[0m\u001b[1;33m.\u001b[0m\u001b[0mmyodesolve\u001b[0m\u001b[1;33m.\u001b[0m\u001b[0my\u001b[0m\u001b[1;33m,\u001b[0m \u001b[0mself\u001b[0m\u001b[1;33m.\u001b[0m\u001b[0mmyodesolve\u001b[0m\u001b[1;33m.\u001b[0m\u001b[0mt\u001b[0m\u001b[1;33m)\u001b[0m\u001b[1;33m\u001b[0m\u001b[1;33m\u001b[0m\u001b[0m\n\u001b[0;32m   1204\u001b[0m             \u001b[1;32mif\u001b[0m \u001b[1;33m(\u001b[0m\u001b[1;33m(\u001b[0m\u001b[0mtcount\u001b[0m \u001b[1;33m%\u001b[0m \u001b[1;36m500\u001b[0m\u001b[1;33m)\u001b[0m \u001b[1;33m==\u001b[0m \u001b[1;36m0\u001b[0m\u001b[1;33m)\u001b[0m\u001b[1;33m:\u001b[0m\u001b[1;33m\u001b[0m\u001b[1;33m\u001b[0m\u001b[0m\n",
      "\u001b[1;32m~\\AppData\\Local\\Continuum\\anaconda3\\lib\\site-packages\\scipy\\integrate\\_ode.py\u001b[0m in \u001b[0;36mintegrate\u001b[1;34m(self, t, step, relax)\u001b[0m\n\u001b[0;32m    430\u001b[0m             self._y, self.t = mth(self.f, self.jac or (lambda: None),\n\u001b[0;32m    431\u001b[0m                                   \u001b[0mself\u001b[0m\u001b[1;33m.\u001b[0m\u001b[0m_y\u001b[0m\u001b[1;33m,\u001b[0m \u001b[0mself\u001b[0m\u001b[1;33m.\u001b[0m\u001b[0mt\u001b[0m\u001b[1;33m,\u001b[0m \u001b[0mt\u001b[0m\u001b[1;33m,\u001b[0m\u001b[1;33m\u001b[0m\u001b[1;33m\u001b[0m\u001b[0m\n\u001b[1;32m--> 432\u001b[1;33m                                   self.f_params, self.jac_params)\n\u001b[0m\u001b[0;32m    433\u001b[0m         \u001b[1;32mexcept\u001b[0m \u001b[0mSystemError\u001b[0m\u001b[1;33m:\u001b[0m\u001b[1;33m\u001b[0m\u001b[1;33m\u001b[0m\u001b[0m\n\u001b[0;32m    434\u001b[0m             \u001b[1;31m# f2py issue with tuple returns, see ticket 1187.\u001b[0m\u001b[1;33m\u001b[0m\u001b[1;33m\u001b[0m\u001b[1;33m\u001b[0m\u001b[0m\n",
      "\u001b[1;32m~\\AppData\\Local\\Continuum\\anaconda3\\lib\\site-packages\\scipy\\integrate\\_ode.py\u001b[0m in \u001b[0;36mrun\u001b[1;34m(self, f, jac, y0, t0, t1, f_params, jac_params)\u001b[0m\n\u001b[0;32m   1002\u001b[0m         args = ((f, jac, y0, t0, t1) + tuple(self.call_args) +\n\u001b[0;32m   1003\u001b[0m                 (f_params, jac_params))\n\u001b[1;32m-> 1004\u001b[1;33m         \u001b[0my1\u001b[0m\u001b[1;33m,\u001b[0m \u001b[0mt\u001b[0m\u001b[1;33m,\u001b[0m \u001b[0mistate\u001b[0m \u001b[1;33m=\u001b[0m \u001b[0mself\u001b[0m\u001b[1;33m.\u001b[0m\u001b[0mrunner\u001b[0m\u001b[1;33m(\u001b[0m\u001b[1;33m*\u001b[0m\u001b[0margs\u001b[0m\u001b[1;33m)\u001b[0m\u001b[1;33m\u001b[0m\u001b[1;33m\u001b[0m\u001b[0m\n\u001b[0m\u001b[0;32m   1005\u001b[0m         \u001b[0mself\u001b[0m\u001b[1;33m.\u001b[0m\u001b[0mistate\u001b[0m \u001b[1;33m=\u001b[0m \u001b[0mistate\u001b[0m\u001b[1;33m\u001b[0m\u001b[1;33m\u001b[0m\u001b[0m\n\u001b[0;32m   1006\u001b[0m         \u001b[1;32mif\u001b[0m \u001b[0mistate\u001b[0m \u001b[1;33m<\u001b[0m \u001b[1;36m0\u001b[0m\u001b[1;33m:\u001b[0m\u001b[1;33m\u001b[0m\u001b[1;33m\u001b[0m\u001b[0m\n",
      "\u001b[1;32m<ipython-input-2-90bcd6534a33>\u001b[0m in \u001b[0;36mNPZB_int\u001b[1;34m(t, initial, dtinput, constants)\u001b[0m\n\u001b[0;32m      9\u001b[0m     \u001b[0mddon\u001b[0m \u001b[1;33m=\u001b[0m \u001b[0mdtinput\u001b[0m\u001b[1;33m.\u001b[0m\u001b[0mVal\u001b[0m\u001b[1;33m(\u001b[0m\u001b[1;34m\"ddon\"\u001b[0m\u001b[1;33m)\u001b[0m\u001b[1;33m\u001b[0m\u001b[1;33m\u001b[0m\u001b[0m\n\u001b[0;32m     10\u001b[0m \u001b[1;33m\u001b[0m\u001b[0m\n\u001b[1;32m---> 11\u001b[1;33m     \u001b[0mi\u001b[0m \u001b[1;33m=\u001b[0m \u001b[0mconstants\u001b[0m\u001b[1;33m.\u001b[0m\u001b[0mVal\u001b[0m\u001b[1;33m(\u001b[0m\u001b[1;34m\"i\"\u001b[0m\u001b[1;33m)\u001b[0m      \u001b[1;31m#irradiance\u001b[0m\u001b[1;33m\u001b[0m\u001b[1;33m\u001b[0m\u001b[0m\n\u001b[0m\u001b[0;32m     12\u001b[0m     \u001b[0mPg\u001b[0m \u001b[1;33m=\u001b[0m \u001b[0mconstants\u001b[0m\u001b[1;33m.\u001b[0m\u001b[0mVal\u001b[0m\u001b[1;33m(\u001b[0m\u001b[1;34m\"Pg\"\u001b[0m\u001b[1;33m)\u001b[0m    \u001b[1;31m# max P growth\u001b[0m\u001b[1;33m\u001b[0m\u001b[1;33m\u001b[0m\u001b[0m\n\u001b[0;32m     13\u001b[0m     \u001b[0mBg\u001b[0m \u001b[1;33m=\u001b[0m \u001b[0mconstants\u001b[0m\u001b[1;33m.\u001b[0m\u001b[0mVal\u001b[0m\u001b[1;33m(\u001b[0m\u001b[1;34m\"Bg\"\u001b[0m\u001b[1;33m)\u001b[0m    \u001b[1;31m# max B growth\u001b[0m\u001b[1;33m\u001b[0m\u001b[1;33m\u001b[0m\u001b[0m\n",
      "\u001b[1;31mAttributeError\u001b[0m: 'NoneType' object has no attribute 'Val'"
     ]
    }
   ],
   "source": [
    "NPZB.Integrate([3,2],TimeSeries=BB_N)\n",
    "NPZB.Draw()"
   ]
  },
  {
   "cell_type": "code",
   "execution_count": null,
   "metadata": {},
   "outputs": [],
   "source": [
    "NPZB.Integrate([5,10], maxdt=20)"
   ]
  }
 ],
 "metadata": {
  "kernelspec": {
   "display_name": "Python 3",
   "language": "python",
   "name": "python3"
  },
  "language_info": {
   "codemirror_mode": {
    "name": "ipython",
    "version": 3
   },
   "file_extension": ".py",
   "mimetype": "text/x-python",
   "name": "python",
   "nbconvert_exporter": "python",
   "pygments_lexer": "ipython3",
   "version": "3.7.1"
  }
 },
 "nbformat": 4,
 "nbformat_minor": 2
}
