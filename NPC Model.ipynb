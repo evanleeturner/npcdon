{
 "cells": [
  {
   "cell_type": "code",
   "execution_count": 2,
   "metadata": {},
   "outputs": [
    {
     "name": "stderr",
     "output_type": "stream",
     "text": [
      "DEBUG -211- Loaded backend module://ipykernel.pylab.backend_inline version unknown.\n"
     ]
    }
   ],
   "source": [
    "from emlib import emlib"
   ]
  },
  {
   "cell_type": "code",
   "execution_count": 3,
   "metadata": {},
   "outputs": [],
   "source": [
    "def NPZB_int(t,initial,dtinput,constants):\n",
    "\n",
    "    P = initial[1]           # phytoplankton\n",
    "    Z = initial[1]             # zooplankton\n",
    "    B = initial[1]             # benthos\n",
    "    DIN = initial[1]           # dissolved inorganic\n",
    "    DON = initial[1]           # dissolved organic\n",
    "    ddin = dtinput.Val(\"ddin\")\n",
    "    ddon = dtinput.Val(\"ddon\")\n",
    "    \n",
    "    i = constants.Val(\"i\")      #irradiance\n",
    "    Pg = constants.Val(\"Pg\")    # max P growth\n",
    "    Bg = constants.Val(\"Bg\")    # max B growth\n",
    "    e = constants.Val(\"e\")      # Z ingestion\n",
    "    Zm = constants.Val(\"Zm\")    # Z mortality\n",
    "    Pm = constants.Val(\"Pm\")    # P mortality\n",
    "    Bm = constants.Val(\"Bm\")    # B mortality\n",
    "    Pe = constants.Val(\"Pe\")    # P excretion\n",
    "    Be = constants.Val(\"Be\")    # B excretion\n",
    "    Pr = constants.Val(\"Pr\")    # P recycle\n",
    "    h = constants.Val(\"h\")      # Z grazing\n",
    "    s = constants.Val(\"s\")      # sedimentation\n",
    "    \n",
    "    P_dot = (i * Pg * P) + (Pr * DON * P) - (h * P * Z) - (Pm * P * P) - (Pe * P)\n",
    "    Z_dot = ((2 * e - 1)*h * P * Z) - (Zm * Z * Z)-(0.8* (1 - e) * h * P * Z)-(0.2 * (1 - e) * H * P * Z)\n",
    "    B_dot = (Bg * B)/ (1 + Bg * B) * (DON + DIN) - (BM * B * B) - (Be * B)\n",
    "    DIN_dot = ddin + (0.8* (1 - e) * h * P * Z) + (Be * B) - (i * Pg * P) - (Bg * B)/ (1 + Bg * B) * DIN\n",
    "    DON_dot = ddon + (Bm * B * B) + (Pm * P * P) + (Zm * Z * Z) + (Pe * P) + (0.2 * (1 - e) * H * P * Z) \\\n",
    "             - (Pr * DON * P) - ((Bg * B)/ (1 + Bg * B) * DON) - (s * DON)\n",
    "\n",
    "    return [P_dot, Z_dot, B_dot, DIN_dot, DON_dot]"
   ]
  },
  {
   "cell_type": "code",
   "execution_count": 4,
   "metadata": {},
   "outputs": [
    {
     "name": "stderr",
     "output_type": "stream",
     "text": [
      "INFO -1105- New Model(1): NPZB_int\n",
      "INFO -1117- No algorithm supplied assuming vode/bfd O12 Nsteps3000 dt1\n",
      "DEBUG -1131- Integrator:vode/bdf order:12 nsteps:3000 dt:1\n"
     ]
    }
   ],
   "source": [
    "NPZB = emlib.Model(NPZB_int) #save the model"
   ]
  },
  {
   "cell_type": "code",
   "execution_count": 6,
   "metadata": {},
   "outputs": [
    {
     "name": "stderr",
     "output_type": "stream",
     "text": [
      "INFO -880- New TimeSeries instance: 2\n",
      "DEBUG -952- New INPUT table DataTest.csv['DATE', 'ddin', 'ddon', 'i', 'pg', 'bg', 'e', 'Zm', 'Pm', 'Bm', 'Pe', 'Be', 'Pr', 'h', 's']\n",
      "DEBUG -963- Saved 60 rows and 14 columns\n",
      "DEBUG -965- Converted dates to contiguous np.array\n",
      "DEBUG -967- Converted input data to contiguous np.array\n"
     ]
    },
    {
     "ename": "TypeError",
     "evalue": "'Model' object is not callable",
     "output_type": "error",
     "traceback": [
      "\u001b[1;31m---------------------------------------------------------------------------\u001b[0m",
      "\u001b[1;31mTypeError\u001b[0m                                 Traceback (most recent call last)",
      "\u001b[1;32m<ipython-input-6-802ae4df295d>\u001b[0m in \u001b[0;36m<module>\u001b[1;34m\u001b[0m\n\u001b[0;32m      1\u001b[0m \u001b[0mTest\u001b[0m\u001b[1;33m=\u001b[0m \u001b[0memlib\u001b[0m\u001b[1;33m.\u001b[0m\u001b[0mTimeSeries\u001b[0m\u001b[1;33m(\u001b[0m\u001b[0mdirname\u001b[0m\u001b[1;33m=\u001b[0m\u001b[1;34m\"Data\"\u001b[0m\u001b[1;33m,\u001b[0m\u001b[0mfilename\u001b[0m\u001b[1;33m=\u001b[0m\u001b[1;34m\"Test.csv\"\u001b[0m\u001b[1;33m)\u001b[0m\u001b[1;33m\u001b[0m\u001b[1;33m\u001b[0m\u001b[0m\n\u001b[1;32m----> 2\u001b[1;33m \u001b[0mNPZB\u001b[0m\u001b[1;33m(\u001b[0m\u001b[1;34m\"A\"\u001b[0m\u001b[1;33m,\u001b[0m\u001b[0mval\u001b[0m\u001b[1;33m=\u001b[0m\u001b[1;36m.5\u001b[0m\u001b[1;33m)\u001b[0m \u001b[1;31m#need some kind of constant\u001b[0m\u001b[1;33m\u001b[0m\u001b[1;33m\u001b[0m\u001b[0m\n\u001b[0m\u001b[0;32m      3\u001b[0m \u001b[0mNPZB\u001b[0m\u001b[1;33m(\u001b[0m\u001b[1;34m\"B\"\u001b[0m\u001b[1;33m,\u001b[0m\u001b[0mval\u001b[0m\u001b[1;33m=\u001b[0m\u001b[1;36m.02\u001b[0m\u001b[1;33m)\u001b[0m\u001b[1;31m#need some kind of constant\u001b[0m\u001b[1;33m\u001b[0m\u001b[1;33m\u001b[0m\u001b[0m\n\u001b[0;32m      4\u001b[0m \u001b[0mNPZB\u001b[0m\u001b[1;33m(\u001b[0m\u001b[1;34m\"C\"\u001b[0m\u001b[1;33m,\u001b[0m\u001b[0mval\u001b[0m\u001b[1;33m=\u001b[0m\u001b[1;36m.9\u001b[0m\u001b[1;33m)\u001b[0m\u001b[1;31m#need some kind of constant\u001b[0m\u001b[1;33m\u001b[0m\u001b[1;33m\u001b[0m\u001b[0m\n\u001b[0;32m      5\u001b[0m \u001b[0mNPZB\u001b[0m\u001b[1;33m(\u001b[0m\u001b[1;34m\"D\"\u001b[0m\u001b[1;33m,\u001b[0m\u001b[0mval\u001b[0m\u001b[1;33m=\u001b[0m\u001b[1;36m.03\u001b[0m\u001b[1;33m)\u001b[0m\u001b[1;31m#need some kind of constant\u001b[0m\u001b[1;33m\u001b[0m\u001b[1;33m\u001b[0m\u001b[0m\n",
      "\u001b[1;31mTypeError\u001b[0m: 'Model' object is not callable"
     ]
    }
   ],
   "source": [
    "Test= emlib.TimeSeries(dirname=\"Data\",filename=\"Test.csv\")\n",
    "NPZB(\"A\",val=.5) #need some kind of constant\n",
    "NPZB(\"B\",val=.02)#need some kind of constant\n",
    "NPZB(\"C\",val=.9)#need some kind of constant\n",
    "NPZB(\"D\",val=.03)#need some kind of constant"
   ]
  },
  {
   "cell_type": "code",
   "execution_count": null,
   "metadata": {},
   "outputs": [],
   "source": [
    "BB_Zoop= emlib.TimeSeries(dirname=\"Data\",filename=\"BB_Zoop.csv\")\n",
    "BB_N= emlib.TimeSeries(dirname=\"Data\",filename=\"BB_N.csv\")\n",
    "BB_MG= emlib.TimeSeries(dirname=\"Data\",filename=\"BB_MG.csv\")"
   ]
  },
  {
   "cell_type": "code",
   "execution_count": null,
   "metadata": {},
   "outputs": [],
   "source": [
    "NPZB.Integrate([3,2],TimeSeries=Test)\n",
    "NPZB.Draw()"
   ]
  },
  {
   "cell_type": "code",
   "execution_count": null,
   "metadata": {},
   "outputs": [],
   "source": [
    "NPZB.Integrate([5,10], maxdt=20)"
   ]
  }
 ],
 "metadata": {
  "kernelspec": {
   "display_name": "Python 3",
   "language": "python",
   "name": "python3"
  },
  "language_info": {
   "codemirror_mode": {
    "name": "ipython",
    "version": 3
   },
   "file_extension": ".py",
   "mimetype": "text/x-python",
   "name": "python",
   "nbconvert_exporter": "python",
   "pygments_lexer": "ipython3",
   "version": "3.7.1"
  }
 },
 "nbformat": 4,
 "nbformat_minor": 2
}
