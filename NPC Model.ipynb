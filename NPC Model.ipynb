{
 "cells": [
  {
   "cell_type": "code",
   "execution_count": 7,
   "metadata": {},
   "outputs": [],
   "source": [
    "from emlib import emlib"
   ]
  },
  {
   "cell_type": "code",
   "execution_count": 2,
   "metadata": {},
   "outputs": [],
   "source": [
    "def NPZB_int(t,initial,dtinput,constants):\n",
    "\n",
    "    P = initial[0]             # phytoplankton\n",
    "    Z = initial[1]             # zooplankton\n",
    "    B = initial[2]             # benthos\n",
    "    DIN = initial[3]           # dissolved inorganic\n",
    "    DON = initial[4]           # dissolved organic\n",
    "    ddin = dtinput.Val(\"ddin\")\n",
    "    ddon = dtinput.Val(\"ddon\")\n",
    "    \n",
    "    i = constants.Val(\"i\")      #irradiance\n",
    "    Pg = constants.Val(\"Pg\")    # max P growth\n",
    "    Bg = constants.Val(\"Bg\")    # max B growth\n",
    "    e = constants.Val(\"e\")      # Z ingestion\n",
    "    Zm = constants.Val(\"Zm\")    # Z mortality\n",
    "    Pm = constants.Val(\"Pm\")    # P mortality\n",
    "    Bm = constants.Val(\"Bm\")    # B mortality\n",
    "    Pe = constants.Val(\"Pe\")    # P excretion\n",
    "    Be = constants.Val(\"Be\")    # B excretion\n",
    "    Pr = constants.Val(\"Pr\")    # P recycle\n",
    "    h = constants.Val(\"h\")      # Z grazing\n",
    "    s = constants.Val(\"s\")      # sedimentation\n",
    "    \n",
    "    P_dot = (i * Pg * P) + (Pr * DON * P) - (h * P * Z) - (Pm * P * P) - (Pe * P)\n",
    "    Z_dot = ((2 * e - 1)*h * P * Z) - (Zm * Z * Z)\n",
    "    B_dot = (Bg * B)/ (1 + Bg * B) * (DON + DIN) - (BM * B * B) - (Be * B)\n",
    "    DIN_dot = ddin + (0.8* (1 - e) * h * P * Z) + (Be * B) - (i * Pg * P) - (Bg * B)/ (1 + Bg * B) * DIN\n",
    "    DON_dot = ddon + (Bm * B * B) + (Pm * P * P) + (Zm * Z * Z) + (Pe * P) + (0.2 * (1 - e) * H * P * Z) \\\n",
    "             - (Pr * DON * P) - ((Bg * B)/ (1 + Bg * B) * DON) - (s * DON)\n",
    "\n",
    "    return [P_dot, Z_dot, B_dot, DIN_dot, DON_dot]"
   ]
  },
  {
   "cell_type": "code",
   "execution_count": 7,
   "metadata": {},
   "outputs": [
    {
     "name": "stderr",
     "output_type": "stream",
     "text": [
      "INFO -1105- New Model(1): NPZB_int\n",
      "INFO -1117- No algorithm supplied assuming vode/bfd O12 Nsteps3000 dt1\n",
      "DEBUG -1131- Integrator:vode/bdf order:12 nsteps:3000 dt:1\n"
     ]
    }
   ],
   "source": [
    "NPZB = emlib.Model(NPZB_int) #save the model"
   ]
  },
  {
   "cell_type": "code",
   "execution_count": 12,
   "metadata": {},
   "outputs": [
    {
     "name": "stderr",
     "output_type": "stream",
     "text": [
      "INFO -880- New TimeSeries instance: 4\n",
      "DEBUG -952- New INPUT table DataGE_Zoop.csv['Date', 'Sta', 'Rep', 'Density']\n",
      "DEBUG -963- Saved 60 rows and 3 columns\n",
      "DEBUG -965- Converted dates to contiguous np.array\n",
      "DEBUG -967- Converted input data to contiguous np.array\n"
     ]
    }
   ],
   "source": [
    "GE_Zoop= emlib.TimeSeries(dirname=\"Data\",filename=\"GE_Zoop.csv\")"
   ]
  },
  {
   "cell_type": "code",
   "execution_count": null,
   "metadata": {},
   "outputs": [],
   "source": []
  }
 ],
 "metadata": {
  "kernelspec": {
   "display_name": "Python 3",
   "language": "python",
   "name": "python3"
  },
  "language_info": {
   "codemirror_mode": {
    "name": "ipython",
    "version": 3
   },
   "file_extension": ".py",
   "mimetype": "text/x-python",
   "name": "python",
   "nbconvert_exporter": "python",
   "pygments_lexer": "ipython3",
   "version": "3.7.1"
  }
 },
 "nbformat": 4,
 "nbformat_minor": 2
}
