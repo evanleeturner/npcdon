{
 "cells": [
  {
   "cell_type": "code",
   "execution_count": 1,
   "metadata": {},
   "outputs": [],
   "source": [
    "from emlib import emlib\n",
    "import logging\n",
    "emlib.emlog.setLevel(logging.INFO)"
   ]
  },
  {
   "cell_type": "code",
   "execution_count": 2,
   "metadata": {},
   "outputs": [],
   "source": [
    "def NPZNB_int(t,initial,dtinput,constants):\n",
    "\n",
    "    B = initial[0]             # benthos\n",
    "    P = initial[1]             # phytoplankton\n",
    "    Z = initial[2]             # zooplankton\n",
    "    DIN = initial[3]           # dissolved inorganic\n",
    "    DON = initial[4]           # dissolved organic\n",
    "    ddin = dtinput.Val(\"ddin\") #Concentration by day from WRTDS model 2 columns date and ddin Units are mg/L N\n",
    "    ddon = dtinput.Val(\"ddon\") #Concentration by day from WRTDS model 2 columns date and ddon mg/l N\n",
    "    \n",
    "    i = constants.Val(\"i\")      #irradiance\n",
    "    Pg = constants.Val(\"Pg\")    # max P growth\n",
    "    Bg = constants.Val(\"Bg\")    # max B growth\n",
    "    e = constants.Val(\"e\")      # Z ingestion\n",
    "    Zm = constants.Val(\"Zm\")    # Z mortality\n",
    "    Pm = constants.Val(\"Pm\")    # P mortality\n",
    "    Bm = constants.Val(\"Bm\")    # B mortality\n",
    "    Pe = constants.Val(\"Pe\")    # P excretion\n",
    "    Be = constants.Val(\"Be\")    # B excretion\n",
    "    Pr = constants.Val(\"Pr\")    # P recycle\n",
    "    h = constants.Val(\"h\")      # Z grazing\n",
    "    s = constants.Val(\"s\")      # sedimentation\n",
    "    f = constants.Val(\"f\")      # flushing rate\n",
    "    \n",
    "    B_dot = (Bg * B)/ (1 + Bg * B) * (DON + DIN) - (Bm * B) - (Be * B * B)\n",
    "    P_dot = (i * Pg * P * DIN) + (Pr * DON * P) - (h * P * Z) - (Pm * P * P) - (Pe * P)\n",
    "    Z_dot = (h * e) - (h * P * Z) - (Zm * Z *Z )\n",
    "   \n",
    "    \n",
    "    DIN_dot = ddin + (0.8* (1 - e) * h * P * Z) + (Be * B)+  (Pe * P) \\\n",
    "                - (i * Pg * P * DIN) - ((Bg * B)/ (1 + Bg * B) * (DIN)) - (f * DIN)\n",
    "    DON_dot = ddon + (Bm * B)  +(Pm * P)  + (Zm * Z)  + (0.2 * (1 - e) * h * P * Z) \\\n",
    "             - (Pr * DON * P)  - ((Bg * B)/ (1 + Bg * B) * (DON))  - (s * DON) - (f * DON)\n",
    "    return [B_dot,P_dot, Z_dot, DIN_dot, DON_dot]"
   ]
  },
  {
   "cell_type": "code",
   "execution_count": 3,
   "metadata": {},
   "outputs": [
    {
     "name": "stderr",
     "output_type": "stream",
     "text": [
      "INFO -1104- New Model(1): NPZNB_int\n",
      "INFO -1116- No algorithm supplied assuming vode/bfd O12 Nsteps3000 dt1\n"
     ]
    }
   ],
   "source": [
    "NPZUS = emlib.Model(NPZNB_int) #save the model"
   ]
  },
  {
   "cell_type": "code",
   "execution_count": 4,
   "metadata": {},
   "outputs": [
    {
     "name": "stderr",
     "output_type": "stream",
     "text": [
      "INFO -879- New TimeSeries instance: 1\n",
      "INFO -879- New TimeSeries instance: 2\n",
      "INFO -758- Read file DataUS_MG_Calibrate.csv 74 Observations for value B\n",
      "INFO -758- Read file DataUS_Zoop.csv 5 Observations for value Z\n",
      "INFO -758- Read file DataUS_Chl.csv 13 Observations for value P\n",
      "INFO -352- New Calibration instance: 1\n"
     ]
    }
   ],
   "source": [
    "nutrients= emlib.TimeSeries(dirname=\"Data\",filename=\"Guadalupe_input.csv\") #loading in input timeseries data ddin and ddon in same file\n",
    "nutrients_alltime= emlib.TimeSeries(dirname=\"Data\",filename=\"Guadalupe_inputall.csv\")\n",
    "\n",
    "benthos_observation = emlib.Observation (\"B\", dirname=\"Data\",filename= \"US_MG_Calibrate.csv\")  \n",
    "zoop_observation = emlib.Observation (\"Z\", dirname=\"Data\",filename= \"US_Zoop.csv\")  \n",
    "chla_observation = emlib.Observation (\"P\", dirname=\"Data\",filename= \"US_Chl.csv\")  \n",
    "\n",
    "NPZUScalibration = emlib.Calibration()  #all of our coefficients\n",
    "NPZUScalibration.Add(\"i\",val=2.54402, min= 0.01, max= 3.0)#from Turner 2014\n",
    "NPZUScalibration.Add(\"Pg\",val=2.2672251,min= 0.01, max= 3.0)#from Turner 2014\n",
    "NPZUScalibration.Add(\"Bg\",val=1.03903,min= 0.01, max= 3.0)#from Turner 2014\n",
    "NPZUScalibration.Add(\"e\",val=1.77639,min= 0.01, max= 2.0)#from Turner 2014\n",
    "NPZUScalibration.Add(\"Zm\",val=0.028854,min= 0.01, max= 3.0)#from Turner 2014\n",
    "NPZUScalibration.Add(\"Pm\",val=2.61708,min= 0.01, max= 3.0)#from Turner 2014\n",
    "NPZUScalibration.Add(\"Bm\",val=1.18918,min= 0.01, max= 1.5)#from Turner 2014\n",
    "NPZUScalibration.Add(\"Pe\",val=1.24452553,min= 0.01, max= 3.0)#random number\n",
    "NPZUScalibration.Add(\"Be\",val=0.92205,min= 0.01, max= 1.5)#random number\n",
    "NPZUScalibration.Add(\"Pr\",val=2.2753,min= 0.01, max= 3.0)#random number\n",
    "NPZUScalibration.Add(\"h\",val=1.14171,min=0.01,max=3.0)#random moving number\n",
    "NPZUScalibration.Add(\"s\",val=0.11773830,min= .01, max= 3.0)#from Turner 2014\n",
    "NPZUScalibration.Add(\"f\",val=0.0570468,min= .01, max= 2.0)#from Turner 2014\n",
    "NPZUScalibration.initial=[0.5,0.5,0.5,0.5,0.5]\n",
    "\n",
    "legend = [\"B\", \"P\", \"Z\", \"DIN\",\"DON\"]   #our graph legend\n",
    "\n"
   ]
  },
  {
   "cell_type": "code",
   "execution_count": null,
   "metadata": {},
   "outputs": [
    {
     "name": "stderr",
     "output_type": "stream",
     "text": [
      "INFO -1393- New Best Calibration\n"
     ]
    },
    {
     "name": "stdout",
     "output_type": "stream",
     "text": [
      "Label\tValue\tMin\tMax\tISConst\tDesc\n",
      "i \t 1.743680400717983 \t 0.01 \t 3.0 \t False \t None\n",
      "Pg \t 2.425684751408472 \t 0.01 \t 3.0 \t False \t None\n",
      "Bg \t 0.6653943624089722 \t 0.01 \t 3.0 \t False \t None\n",
      "e \t 0.16975009625824963 \t 0.01 \t 2.0 \t False \t None\n",
      "Zm \t 0.8678362092287416 \t 0.01 \t 3.0 \t False \t None\n",
      "Pm \t 2.8856608671355586 \t 0.01 \t 3.0 \t False \t None\n",
      "Bm \t 0.4535652434989341 \t 0.01 \t 1.5 \t False \t None\n",
      "Pe \t 0.5370390029203447 \t 0.01 \t 3.0 \t False \t None\n",
      "Be \t 1.2626723009724146 \t 0.01 \t 1.5 \t False \t None\n",
      "Pr \t 2.2451017191899734 \t 0.01 \t 3.0 \t False \t None\n",
      "h \t 1.5918251616908015 \t 0.01 \t 3.0 \t False \t None\n",
      "s \t 0.18811135449908994 \t 0.01 \t 3.0 \t False \t None\n",
      "f \t 1.7621079145095253 \t 0.01 \t 2.0 \t False \t None\n",
      "GFMODEL #63 Xtot:0.167 RMSD:0.0 RMSE:0.175 RANGE%4.8 MSER:1.3 WMSE:1.4\n"
     ]
    },
    {
     "name": "stderr",
     "output_type": "stream",
     "text": [
      "INFO -1393- New Best Calibration\n"
     ]
    },
    {
     "name": "stdout",
     "output_type": "stream",
     "text": [
      "Label\tValue\tMin\tMax\tISConst\tDesc\n",
      "i \t 2.368118205288234 \t 0.01 \t 3.0 \t False \t None\n",
      "Pg \t 2.198829751352484 \t 0.01 \t 3.0 \t False \t None\n",
      "Bg \t 1.0363908143220835 \t 0.01 \t 3.0 \t False \t None\n",
      "e \t 1.8469849997676249 \t 0.01 \t 2.0 \t False \t None\n",
      "Zm \t 2.4440649235289356 \t 0.01 \t 3.0 \t False \t None\n",
      "Pm \t 0.8262500171901621 \t 0.01 \t 3.0 \t False \t None\n",
      "Bm \t 1.30551293273948 \t 0.01 \t 1.5 \t False \t None\n",
      "Pe \t 0.6632237030848178 \t 0.01 \t 3.0 \t False \t None\n",
      "Be \t 0.10342061695827037 \t 0.01 \t 1.5 \t False \t None\n",
      "Pr \t 1.4902217126879955 \t 0.01 \t 3.0 \t False \t None\n",
      "h \t 1.4021843009924349 \t 0.01 \t 3.0 \t False \t None\n",
      "s \t 0.1738643185187554 \t 0.01 \t 3.0 \t False \t None\n",
      "f \t 0.4269707446845181 \t 0.01 \t 2.0 \t False \t None\n",
      "GFMODEL #63 Xtot:0.167 RMSD:0.0 RMSE:0.126 RANGE%9.5 MSER:0.9 WMSE:1.0\n"
     ]
    },
    {
     "name": "stderr",
     "output_type": "stream",
     "text": [
      "INFO -1393- New Best Calibration\n"
     ]
    },
    {
     "name": "stdout",
     "output_type": "stream",
     "text": [
      "Label\tValue\tMin\tMax\tISConst\tDesc\n",
      "i \t 1.5388837548827716 \t 0.01 \t 3.0 \t False \t None\n",
      "Pg \t 2.86445267071376 \t 0.01 \t 3.0 \t False \t None\n",
      "Bg \t 0.34499795127724786 \t 0.01 \t 3.0 \t False \t None\n",
      "e \t 0.9810027666069755 \t 0.01 \t 2.0 \t False \t None\n",
      "Zm \t 1.547044802960356 \t 0.01 \t 3.0 \t False \t None\n",
      "Pm \t 1.0863597608076654 \t 0.01 \t 3.0 \t False \t None\n",
      "Bm \t 0.4308742476237248 \t 0.01 \t 1.5 \t False \t None\n",
      "Pe \t 0.05872938667449004 \t 0.01 \t 3.0 \t False \t None\n",
      "Be \t 0.7374150238417458 \t 0.01 \t 1.5 \t False \t None\n",
      "Pr \t 0.7851984223306063 \t 0.01 \t 3.0 \t False \t None\n",
      "h \t 2.5196456277219763 \t 0.01 \t 3.0 \t False \t None\n",
      "s \t 2.328997929277618 \t 0.01 \t 3.0 \t False \t None\n",
      "f \t 0.8265668315355288 \t 0.01 \t 2.0 \t False \t None\n",
      "GFMODEL #63 Xtot:0.167 RMSD:5.4 RMSE:0.027 RANGE%25.4 MSER:0.1 WMSE:0.2\n"
     ]
    },
    {
     "name": "stderr",
     "output_type": "stream",
     "text": [
      "C:\\Users\\mrohal\\AppData\\Local\\Continuum\\anaconda3\\lib\\site-packages\\scipy\\integrate\\_ode.py:1009: UserWarning: vode: Excess work done on this call. (Perhaps wrong MF.)\n",
      "  self.messages.get(istate, unexpected_istate_msg)))\n",
      "C:\\Users\\mrohal\\AppData\\Local\\Continuum\\anaconda3\\lib\\site-packages\\ipykernel_launcher.py:26: RuntimeWarning: overflow encountered in double_scalars\n",
      "C:\\Users\\mrohal\\AppData\\Local\\Continuum\\anaconda3\\lib\\site-packages\\ipykernel_launcher.py:31: RuntimeWarning: overflow encountered in double_scalars\n",
      "C:\\Users\\mrohal\\AppData\\Local\\Continuum\\anaconda3\\lib\\site-packages\\scipy\\integrate\\_ode.py:1009: UserWarning: vode: Repeated convergence failures. (Perhaps bad Jacobian supplied or wrong choice of MF or tolerances.)\n",
      "  self.messages.get(istate, unexpected_istate_msg)))\n",
      "INFO -1393- New Best Calibration\n"
     ]
    },
    {
     "name": "stdout",
     "output_type": "stream",
     "text": [
      "Label\tValue\tMin\tMax\tISConst\tDesc\n",
      "i \t 2.5964246143973426 \t 0.01 \t 3.0 \t False \t None\n",
      "Pg \t 2.6921613263822293 \t 0.01 \t 3.0 \t False \t None\n",
      "Bg \t 0.11097000300258109 \t 0.01 \t 3.0 \t False \t None\n",
      "e \t 0.35581772776900766 \t 0.01 \t 2.0 \t False \t None\n",
      "Zm \t 2.302418294068517 \t 0.01 \t 3.0 \t False \t None\n",
      "Pm \t 1.4789911219560299 \t 0.01 \t 3.0 \t False \t None\n",
      "Bm \t 0.08513546824809551 \t 0.01 \t 1.5 \t False \t None\n",
      "Pe \t 1.709082193387775 \t 0.01 \t 3.0 \t False \t None\n",
      "Be \t 1.3475503948239034 \t 0.01 \t 1.5 \t False \t None\n",
      "Pr \t 1.957176608879883 \t 0.01 \t 3.0 \t False \t None\n",
      "h \t 0.7444517755998195 \t 0.01 \t 3.0 \t False \t None\n",
      "s \t 0.4696797343691163 \t 0.01 \t 3.0 \t False \t None\n",
      "f \t 1.1497705040621764 \t 0.01 \t 2.0 \t False \t None\n",
      "GFMODEL #63 Xtot:0.167 RMSD:22.9 RMSE:0.022 RANGE%38.1 MSER:0.1 WMSE:0.2\n"
     ]
    },
    {
     "name": "stderr",
     "output_type": "stream",
     "text": [
      "INFO -1393- New Best Calibration\n"
     ]
    },
    {
     "name": "stdout",
     "output_type": "stream",
     "text": [
      "Label\tValue\tMin\tMax\tISConst\tDesc\n",
      "i \t 2.2050431513550603 \t 0.01 \t 3.0 \t False \t None\n",
      "Pg \t 2.218277811943027 \t 0.01 \t 3.0 \t False \t None\n",
      "Bg \t 0.05608411093698129 \t 0.01 \t 3.0 \t False \t None\n",
      "e \t 0.5390229409523539 \t 0.01 \t 2.0 \t False \t None\n",
      "Zm \t 1.9061340295036608 \t 0.01 \t 3.0 \t False \t None\n",
      "Pm \t 0.9432589218740262 \t 0.01 \t 3.0 \t False \t None\n",
      "Bm \t 0.03626921728187323 \t 0.01 \t 1.5 \t False \t None\n",
      "Pe \t 1.4171637940365787 \t 0.01 \t 3.0 \t False \t None\n",
      "Be \t 1.2263292080532826 \t 0.01 \t 1.5 \t False \t None\n",
      "Pr \t 2.603176105361221 \t 0.01 \t 3.0 \t False \t None\n",
      "h \t 1.8524668067845036 \t 0.01 \t 3.0 \t False \t None\n",
      "s \t 1.431283377145365 \t 0.01 \t 3.0 \t False \t None\n",
      "f \t 0.10690407496720683 \t 0.01 \t 2.0 \t False \t None\n",
      "GFMODEL #63 Xtot:0.167 RMSD:24.2 RMSE:0.021 RANGE%42.9 MSER:0.1 WMSE:0.2\n"
     ]
    }
   ],
   "source": [
    "#calibrate to benthos, print out the coefficients and the calibration fitness\n",
    "\n",
    "\n",
    "best = NPZUS.Calibrate (NPZUScalibration, benthos_observation, Algorithm=emlib.GF_BruteForceMSERANGE, runs =10000, TimeSeries= nutrients)\n",
    "NPZUS.Integrate(NPZUScalibration.initial, Calibration=best,TimeSeries= nutrients, dt=0.01) \n",
    "NPZUS.Validate(benthos_observation, graph =True, legend=legend) \n",
    "NPZUS.fit.Print()\n",
    "best.Print()"
   ]
  },
  {
   "cell_type": "code",
   "execution_count": null,
   "metadata": {},
   "outputs": [],
   "source": [
    "#validate to CHLA\n",
    "NPZUS.Integrate(NPZUScalibration.initial, Calibration=best,TimeSeries= nutrients_alltime, dt=0.01) \n",
    "NPZUS.Validate(chla_observation, graph =True, legend=legend) \n",
    "NPZUS.fit.Print()\n",
    "best.Print()"
   ]
  },
  {
   "cell_type": "code",
   "execution_count": null,
   "metadata": {},
   "outputs": [],
   "source": []
  }
 ],
 "metadata": {
  "kernelspec": {
   "display_name": "Python 3",
   "language": "python",
   "name": "python3"
  },
  "language_info": {
   "codemirror_mode": {
    "name": "ipython",
    "version": 3
   },
   "file_extension": ".py",
   "mimetype": "text/x-python",
   "name": "python",
   "nbconvert_exporter": "python",
   "pygments_lexer": "ipython3",
   "version": "3.7.1"
  }
 },
 "nbformat": 4,
 "nbformat_minor": 2
}
